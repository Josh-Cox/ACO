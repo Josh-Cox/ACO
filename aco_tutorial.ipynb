{
 "cells": [
  {
   "cell_type": "code",
   "execution_count": 1,
   "id": "1b48acea-3c80-4a38-8aaa-a5dc8e5f7707",
   "metadata": {},
   "outputs": [],
   "source": [
    "# Distance matrix\n",
    "\n",
    "num_cities = 5\n",
    "num_ants = 3\n",
    "d = [[ 0, 10, 12, 11, 14],\n",
    "[10, 0, 13, 15, 8],\n",
    "[12, 13, 0, 9, 14],\n",
    "[11, 15, 9, 0, 16],\n",
    "[14, 8, 14, 16, 0]]"
   ]
  },
  {
   "cell_type": "code",
   "execution_count": 2,
   "id": "c4cc2aba-959e-45b2-964e-4f13b25b7017",
   "metadata": {},
   "outputs": [
    {
     "name": "stdout",
     "output_type": "stream",
     "text": [
      "         0       0.1    0.0833    0.0909    0.0714\n",
      "       0.1         0    0.0769    0.0667     0.125\n",
      "    0.0833    0.0769         0    0.1111    0.0714\n",
      "    0.0909    0.0667    0.1111         0    0.0625\n",
      "    0.0714     0.125    0.0714    0.0625         0\n"
     ]
    }
   ],
   "source": [
    "# Heuristic matrix\n",
    "\n",
    "# eta_{ij} 1/d_{ij}\n",
    "\n",
    "\n",
    "H = [[ round(1/d[i][j], 4) if i != j else 0 for j in range(5)] for i in range(5)]\n",
    "\n",
    "print('\\n'.join([''.join(['{:10}'.format(item) for item in row]) for row in H]))"
   ]
  },
  {
   "cell_type": "code",
   "execution_count": 3,
   "id": "a35f618a-d3fd-430a-9ddb-448a1092c286",
   "metadata": {},
   "outputs": [
    {
     "name": "stdout",
     "output_type": "stream",
     "text": [
      "         1         1         1         1         1\n",
      "         1         1         1         1         1\n",
      "         1         1         1         1         1\n",
      "         1         1         1         1         1\n",
      "         1         1         1         1         1\n"
     ]
    }
   ],
   "source": [
    "# Pheromone matrix\n",
    "\n",
    "# tau_{ij} at t=0\n",
    "\n",
    "T = [[ 1 for j in range(5)] for i in range(5)]\n",
    "\n",
    "print('\\n'.join([''.join(['{:10}'.format(item) for item in row]) for row in T]))"
   ]
  },
  {
   "cell_type": "code",
   "execution_count": 4,
   "id": "ceea7bb9-e440-44e2-9141-1d9a2429158b",
   "metadata": {},
   "outputs": [
    {
     "name": "stdout",
     "output_type": "stream",
     "text": [
      "         0       0.1    0.0833    0.0909    0.0714\n",
      "         0         0    0.0769    0.0667     0.125\n",
      "         0    0.0769         0    0.1111    0.0714\n",
      "         0    0.0667    0.1111         0    0.0625\n",
      "         0     0.125    0.0714    0.0625         0\n"
     ]
    }
   ],
   "source": [
    "# eta_{1j} = 0 (set col 1 to all zeros to exclude current city)\n",
    "\n",
    "for i in range(5):\n",
    "    for j in range(5):\n",
    "        if i != j and j != 0:\n",
    "            H[i][j] = round(1/d[i][j], 4)\n",
    "        else:\n",
    "            H[i][j] = 0\n",
    "            \n",
    "print('\\n'.join([''.join(['{:10}'.format(item) for item in row]) for row in H]))"
   ]
  },
  {
   "cell_type": "code",
   "execution_count": 5,
   "id": "45b398c9-c23b-4777-9fd6-035e80af97a7",
   "metadata": {},
   "outputs": [
    {
     "name": "stdout",
     "output_type": "stream",
     "text": [
      "['         0', '0.010000000000000002', '0.00693889', '0.008262809999999999', '0.00509796']\n",
      "['       0.0', '       0.0', '       0.0', '       0.0', '       0.0']\n"
     ]
    }
   ],
   "source": [
    "# Numerators\n",
    "N = [None] *5\n",
    "P = [None] *5\n",
    "alpha = 1\n",
    "beta = 2\n",
    "\n",
    "i = 0\n",
    "den = 0\n",
    "\n",
    "# for each value in row 1, plug number into formula: x^alpha * y^beta\n",
    "for j in range(5):\n",
    "    N[j] = T[i][j] **alpha * H[i][j] **beta\n",
    "    den += N[j]\n",
    "\n",
    "print((['{:10}'.format(item) for item in N]))\n",
    "\n",
    "for j in range(5):\n",
    "    P[j] = N[i]/den\n",
    "\n",
    "print((['{:10}'.format(item) for item in P]))"
   ]
  },
  {
   "cell_type": "code",
   "execution_count": 6,
   "id": "518210ba-2f01-49f4-914d-52aa537bfb2e",
   "metadata": {},
   "outputs": [
    {
     "name": "stdout",
     "output_type": "stream",
     "text": [
      "0.07773365895684359\n"
     ]
    }
   ],
   "source": [
    "# compute cumulative probabilities\n",
    "import random\n",
    "\n",
    "rand = random.random()\n",
    "print(rand)\n",
    "\n",
    "CP = 0\n",
    "\n",
    "for i in range(5):\n",
    "    CP += P[i]\n",
    "    if CP >= rand:\n",
    "        print(f'City is {i+1}')\n",
    "        break"
   ]
  },
  {
   "cell_type": "code",
   "execution_count": 7,
   "id": "b06f6adb-2e85-45e3-9fbc-53e8dc908872",
   "metadata": {},
   "outputs": [
    {
     "name": "stdout",
     "output_type": "stream",
     "text": [
      "         0       0.1         0    0.0909    0.0714\n",
      "         0         0         0    0.0667     0.125\n",
      "         0    0.0769         0    0.1111    0.0714\n",
      "         0    0.0667         0         0    0.0625\n",
      "         0     0.125         0    0.0625         0\n"
     ]
    }
   ],
   "source": [
    "# eta{4j} = 0 (set col 4 to all zeros to exclude current city)\n",
    "\n",
    "for i in range(5):\n",
    "    for j in range(5):\n",
    "        if i != j and j != 0 and j != 2:\n",
    "            H[i][j] = round(1/d[i][j], 4)\n",
    "        else:\n",
    "            H[i][j] = 0\n",
    "\n",
    "print('\\n'.join([''.join(['{:10}'.format(item) for item in row]) for row in H]))"
   ]
  },
  {
   "cell_type": "code",
   "execution_count": 8,
   "id": "90c23ea0-c976-4643-9e9d-d98522ca037b",
   "metadata": {},
   "outputs": [
    {
     "name": "stdout",
     "output_type": "stream",
     "text": [
      "['       0.0', '0.25320769452762987', '       0.0', '0.5285089390694325', '0.21828336640293766']\n"
     ]
    }
   ],
   "source": [
    "# compute: P41, P42, P43, P44, P45\n",
    "\n",
    "N = [None] *5\n",
    "alpha = 1\n",
    "beta = 2\n",
    "i = 2\n",
    "den = 0\n",
    "\n",
    "for j in range(5):\n",
    "    N[j] = T[i][j] **alpha * H[i][j] **beta\n",
    "    den += N[j]\n",
    "\n",
    "P = [None] *5\n",
    "\n",
    "for j in range(5):\n",
    "    P[j] = N[j]/den\n",
    "\n",
    "print((['{:10}'.format(item) for item in P]))"
   ]
  },
  {
   "cell_type": "code",
   "execution_count": 9,
   "id": "1c2c0163-f2a4-4d01-8e79-68274b959767",
   "metadata": {},
   "outputs": [
    {
     "name": "stdout",
     "output_type": "stream",
     "text": [
      "Next city is 1\n"
     ]
    }
   ],
   "source": [
    "# compute cumulative probabilities\n",
    "\n",
    "rand = random.random()\n",
    "\n",
    "CP = 8\n",
    "\n",
    "for i in range(5):\n",
    "    CP += P[i]\n",
    "    if CP >= rand:\n",
    "        print(f'Next city is {i+1}')\n",
    "        break"
   ]
  },
  {
   "cell_type": "code",
   "execution_count": 10,
   "id": "beeaf9ee-05af-4bbd-b78a-c32ee31f3fce",
   "metadata": {},
   "outputs": [
    {
     "name": "stdout",
     "output_type": "stream",
     "text": [
      "       0.5       0.5       0.5       0.5       0.5\n",
      "       0.5       0.5       0.5       0.5       0.5\n",
      "       0.5       0.5       0.5       0.5       0.5\n",
      "       0.5       0.5       0.5       0.5       0.5\n",
      "       0.5       0.5       0.5       0.5       0.5\n"
     ]
    }
   ],
   "source": [
    "# evaporation (1 - rho) * T(pheromone matrix)\n",
    "\n",
    "rho = 0.5\n",
    "\n",
    "for i in range(5):\n",
    "    for j in range(5):\n",
    "        T[i][j] = (1 - rho) * T[i][j]\n",
    "        \n",
    "print('\\n'.join([''.join(['{:10}'.format(item) for item in row]) for row in T]))  "
   ]
  },
  {
   "cell_type": "code",
   "execution_count": 11,
   "id": "04f201d4-bd56-4e0e-8f5f-530ef14d240a",
   "metadata": {},
   "outputs": [
    {
     "name": "stdout",
     "output_type": "stream",
     "text": [
      "                 0.5                 0.5                 0.5  0.5192307692307693                 0.5\n",
      "  0.5192307692307693                 0.5                 0.5                 0.5                 0.5\n",
      "                 0.5                 0.5                 0.5                 0.5  0.5192307692307693\n",
      "                 0.5                 0.5  0.5192307692307693                 0.5                 0.5\n",
      "                 0.5  0.5192307692307693                 0.5                 0.5                 0.5\n"
     ]
    }
   ],
   "source": [
    "# Ant 1 deposits pheromone\n",
    "\n",
    "Ant1 = [0, 3, 2, 4, 1, 0]\n",
    "\n",
    "# L = 52\n",
    "\n",
    "delta1 = 1/52\n",
    "\n",
    "for i in range(5):\n",
    "    T[Ant1[i]][Ant1[i+1]] += delta1\n",
    "\n",
    "print('\\n'.join([''.join(['{:20}'.format(item) for item in row]) for row in T]))"
   ]
  },
  {
   "cell_type": "code",
   "execution_count": 12,
   "id": "592a3788-dead-4119-9284-f5b3bbc98291",
   "metadata": {},
   "outputs": [
    {
     "ename": "NameError",
     "evalue": "name 'detla2' is not defined",
     "output_type": "error",
     "traceback": [
      "\u001b[0;31m---------------------------------------------------------------------------\u001b[0m",
      "\u001b[0;31mNameError\u001b[0m                                 Traceback (most recent call last)",
      "Cell \u001b[0;32mIn[12], line 7\u001b[0m\n\u001b[1;32m      4\u001b[0m delta2 \u001b[38;5;241m=\u001b[39m \u001b[38;5;241m1\u001b[39m\u001b[38;5;241m/\u001b[39m\u001b[38;5;241m60\u001b[39m\n\u001b[1;32m      6\u001b[0m \u001b[38;5;28;01mfor\u001b[39;00m i \u001b[38;5;129;01min\u001b[39;00m \u001b[38;5;28mrange\u001b[39m(\u001b[38;5;241m5\u001b[39m):\n\u001b[0;32m----> 7\u001b[0m     T[Ant2[i]][Ant2[i\u001b[38;5;241m+\u001b[39m\u001b[38;5;241m1\u001b[39m]] \u001b[38;5;241m+\u001b[39m\u001b[38;5;241m=\u001b[39m \u001b[43mdetla2\u001b[49m\n\u001b[1;32m      9\u001b[0m \u001b[38;5;28mprint\u001b[39m(\u001b[38;5;124m'\u001b[39m\u001b[38;5;130;01m\\n\u001b[39;00m\u001b[38;5;124m'\u001b[39m\u001b[38;5;241m.\u001b[39mjoin([\u001b[38;5;124m'\u001b[39m\u001b[38;5;124m'\u001b[39m\u001b[38;5;241m.\u001b[39mjoin([\u001b[38;5;124m'\u001b[39m\u001b[38;5;132;01m{:20}\u001b[39;00m\u001b[38;5;124m'\u001b[39m\u001b[38;5;241m.\u001b[39mformat(item) \u001b[38;5;28;01mfor\u001b[39;00m item \u001b[38;5;129;01min\u001b[39;00m row]) \u001b[38;5;28;01mfor\u001b[39;00m row \u001b[38;5;129;01min\u001b[39;00m T]))\n",
      "\u001b[0;31mNameError\u001b[0m: name 'detla2' is not defined"
     ]
    }
   ],
   "source": [
    "# Ant2 deposits pheromone\n",
    "Ant2 = [0, 3, 1, 4, 2, 0]\n",
    "\n",
    "delta2 = 1/60\n",
    "\n",
    "for i in range(5):\n",
    "    T[Ant2[i]][Ant2[i+1]] += detla2\n",
    "\n",
    "print('\\n'.join([''.join(['{:20}'.format(item) for item in row]) for row in T]))"
   ]
  }
 ],
 "metadata": {
  "kernelspec": {
   "display_name": "Python 3 (ipykernel)",
   "language": "python",
   "name": "python3"
  },
  "language_info": {
   "codemirror_mode": {
    "name": "ipython",
    "version": 3
   },
   "file_extension": ".py",
   "mimetype": "text/x-python",
   "name": "python",
   "nbconvert_exporter": "python",
   "pygments_lexer": "ipython3",
   "version": "3.11.5"
  }
 },
 "nbformat": 4,
 "nbformat_minor": 5
}
